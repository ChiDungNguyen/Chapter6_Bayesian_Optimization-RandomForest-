{
 "cells": [
  {
   "cell_type": "markdown",
   "metadata": {},
   "source": [
    "# Chapter 6: \n",
    "\n",
    "# Bayesian Optimization for Turning Hyper-parameters\n",
    "\n",
    "Trong chương 2 chúng ta đã  biết ba phương pháp tinh chỉnh tham số cho các mô hình ML. Chiến lược Grid Search sẽ liệt kê ra tất cả các sự kết hợp có thể có của các tham số rồi tìm kiếm một sự kết hợp cụ thể nào đó của tham số sao cho lượng phân loại của mô hình là cao nhất. Như vậy nếu chúng ta lựa chọn chỉ 5 tham số (con số này vẫn còn ít so với các tham số có thể tinh chỉnh) và mỗi một tham số chọn 10 ứng viên và sử dụng 5 folds cho Cross-Validation thì tổng số các mô hình mà máy tính sẽ phải chạy là 5×10^5 = 500.000 mô hình (nếu lựa chọn refit = False). Để cắt giảm thời gian huấn luyện chúng ta có thể thực hiện tinh chỉnh tham số theo kiểu hên - xui bằng cách chỉ chọn ngẫu nhiên, chẳng hạn, 50000 (tức là 10% của 500.000) sự kết hợp khác nhau của tham số để tinh chỉnh mô hình. Cách thức tinh chỉnh hên xui này gọi là Random Search. Chiến lược tinh chỉnh này là chúng ta có thể cắt giảm đáng kể thời gian tinh chỉnh với các giá phải trả là chúng ta có thể \"bỏ sót\" tham số tốt nhất của mô hình ML. Tuy vậy trong một số tình huống thì tinh chỉnh theo Random Seach có thể vẫn là không hiệu quả và chúng ta cần một chiến lược tinh chỉnh hiệu quả hơn là Bayesian Optimization. \n",
    "\n",
    "Trong chương này chúng ta sẽ so sánh các phương pháp tinh chỉnh tham số khác nhau là Grod Search, Random Search và Bayesian Optimization căn cứ vào ba tiêu chí: \n",
    "\n",
    "- Thời gian tinh chỉnh. \n",
    "- AUC trung bình từ 5-folds Cross-Validation. \n",
    "- AUC trên Test Data. \n",
    "\n",
    "\n",
    "\n",
    "# 6.1 Nhắc lại Grid và Random Search\n",
    "\n",
    "Để minh họa chúng ta trở lại với bộ dữ liệu **GermanCredit.csv** với mô hình Random Forest (RF) và tiêu chí được chọn để tinh chỉnh mô hình là ROC/AUC: "
   ]
  },
  {
   "cell_type": "code",
   "execution_count": 1,
   "metadata": {},
   "outputs": [],
   "source": [
    "#=====================\n",
    "#  Chuẩn bị dữ liệu\n",
    "#=====================\n",
    "\n",
    "# Load một số packages: \n",
    "import pandas as pd\n",
    "import numpy as np\n",
    "\n",
    "# Import dữ liệu và thực hiện xử lí sơ bộ: \n",
    "df_bank = pd.read_csv(\"C:/Users/ADMIN/Desktop/DataMining/dmba/GermanCredit.csv\")\n",
    "df_bank['RESPONSE'] = df_bank['RESPONSE'].map({1: 0, 0: 1})\n",
    "\n",
    "# Bỏ biến không cần thiết: \n",
    "my_df_binary = df_bank.drop([\"OBS#\"], axis=1) \n",
    "\n",
    "# Tách ra features và target: \n",
    "Y = my_df_binary[\"RESPONSE\"]\n",
    "X = my_df_binary.drop(\"RESPONSE\", 1)\n",
    "\n",
    "# Phân chia dữ liệu theo tỉ lệ 80 - 20: \n",
    "from sklearn.model_selection import train_test_split\n",
    "X_train, X_test, y_train, y_test = train_test_split(X, Y, test_size=0.2, random_state=29, stratify = Y)"
   ]
  },
  {
   "cell_type": "markdown",
   "metadata": {},
   "source": [
    "Thực hiện tinh chỉnh theo ROC/AUC bằng Grid Search: "
   ]
  },
  {
   "cell_type": "code",
   "execution_count": 2,
   "metadata": {},
   "outputs": [
    {
     "name": "stdout",
     "output_type": "stream",
     "text": [
      "Fitting 5 folds for each of 3456 candidates, totalling 17280 fits\n"
     ]
    },
    {
     "name": "stderr",
     "output_type": "stream",
     "text": [
      "[Parallel(n_jobs=-1)]: Using backend LokyBackend with 40 concurrent workers.\n",
      "[Parallel(n_jobs=-1)]: Done  82 tasks      | elapsed:    5.2s\n",
      "[Parallel(n_jobs=-1)]: Done 285 tasks      | elapsed:    8.6s\n",
      "[Parallel(n_jobs=-1)]: Done 568 tasks      | elapsed:   13.4s\n",
      "[Parallel(n_jobs=-1)]: Done 933 tasks      | elapsed:   19.6s\n",
      "[Parallel(n_jobs=-1)]: Done 1378 tasks      | elapsed:   27.0s\n",
      "[Parallel(n_jobs=-1)]: Done 1905 tasks      | elapsed:   36.2s\n",
      "[Parallel(n_jobs=-1)]: Done 2512 tasks      | elapsed:   46.9s\n",
      "[Parallel(n_jobs=-1)]: Done 3201 tasks      | elapsed:   59.2s\n",
      "[Parallel(n_jobs=-1)]: Done 3970 tasks      | elapsed:  1.2min\n",
      "[Parallel(n_jobs=-1)]: Done 4821 tasks      | elapsed:  1.5min\n",
      "[Parallel(n_jobs=-1)]: Done 5752 tasks      | elapsed:  1.8min\n",
      "[Parallel(n_jobs=-1)]: Done 6765 tasks      | elapsed:  2.1min\n",
      "[Parallel(n_jobs=-1)]: Done 7858 tasks      | elapsed:  2.5min\n",
      "[Parallel(n_jobs=-1)]: Done 9033 tasks      | elapsed:  2.9min\n",
      "[Parallel(n_jobs=-1)]: Done 10288 tasks      | elapsed:  3.3min\n",
      "[Parallel(n_jobs=-1)]: Done 11625 tasks      | elapsed:  3.7min\n",
      "[Parallel(n_jobs=-1)]: Done 13042 tasks      | elapsed:  4.1min\n",
      "[Parallel(n_jobs=-1)]: Done 14541 tasks      | elapsed:  4.7min\n",
      "[Parallel(n_jobs=-1)]: Done 16120 tasks      | elapsed:  5.3min\n"
     ]
    },
    {
     "name": "stdout",
     "output_type": "stream",
     "text": [
      "Training Time: 343.29314613342285\n"
     ]
    },
    {
     "name": "stderr",
     "output_type": "stream",
     "text": [
      "[Parallel(n_jobs=-1)]: Done 17280 out of 17280 | elapsed:  5.7min finished\n"
     ]
    }
   ],
   "source": [
    "#==================================\n",
    "#   Tinh chỉnh bằng Grid Search\n",
    "#==================================\n",
    "\n",
    "# Thiết lập lưới tinh chỉnh (liệt kê các ứng viên tiềm năng của tham số để tinh chỉnh): \n",
    "param_grid = {\"max_depth\": [1, 2, 3, 5, 7, 10],\n",
    "              \"n_estimators\": [100, 150, 200, 250, 300, 500, 700, 900],\n",
    "              \"min_samples_split\": [2, 3, 4, 5, 7, 10],\n",
    "              \"min_samples_leaf\": [2, 3, 4, 5, 7, 10],\n",
    "              \"criterion\": [\"gini\", \"entropy\"]}\n",
    "\n",
    "# Thực hiện tinh chỉnh bằng Grid Search và tính luôn thời gian thực hiện: \n",
    "import time\n",
    "\n",
    "# Thời gian bắt đầu: \n",
    "start_time = time.time()\n",
    "\n",
    "# Huấn luyện - tinh chỉnh RF: \n",
    "from sklearn.ensemble import RandomForestClassifier\n",
    "from sklearn.model_selection import GridSearchCV\n",
    "\n",
    "rf_grid = GridSearchCV(estimator=RandomForestClassifier(random_state=29),\n",
    "                       param_grid = param_grid,    \n",
    "                       scoring=\"roc_auc\",\n",
    "                       refit = False, \n",
    "                       verbose = 2, \n",
    "                       cv = 5, \n",
    "                       n_jobs = -1) \n",
    "\n",
    "rf_grid.fit(X_train, y_train)\n",
    "\n",
    "time_training_GridSearch = time.time() - start_time\n",
    "# Hiển thị thời gian cần thiết để tinh chỉnh: \n",
    "print('Training Time:', time_training_GridSearch)"
   ]
  },
  {
   "cell_type": "markdown",
   "metadata": {},
   "source": [
    "Mất chừng 330s để chạy 5*3456 = 17280 mô hình RF trên con máy Workstation Dell T5610 sử dụng 2 CPU Intel Xeon E5 2680 V2, 64 Gi RAM ECC. Dưới đây là tham số tốt nhất và ROC/AUC trung bình (cho 5 folds) tương ứng: "
   ]
  },
  {
   "cell_type": "code",
   "execution_count": 3,
   "metadata": {},
   "outputs": [
    {
     "name": "stdout",
     "output_type": "stream",
     "text": [
      "Tham số tối ưu: {'criterion': 'entropy', 'max_depth': 10, 'min_samples_leaf': 2, 'min_samples_split': 5, 'n_estimators': 250}\n",
      "Accuracy trung bình tương ứng của 5 folds: 0.8002232142857143\n"
     ]
    }
   ],
   "source": [
    "# Tham số tối ưu và Accuracy trung bình tương ứng: \n",
    "best_params_GridSearch = rf_grid.best_params_\n",
    "avgAUC_GridSearch = rf_grid.best_score_\n",
    "\n",
    "print(\"Tham số tối ưu:\", best_params_GridSearch)\n",
    "print(\"Accuracy trung bình tương ứng của 5 folds:\", avgAUC_GridSearch)"
   ]
  },
  {
   "cell_type": "code",
   "execution_count": 4,
   "metadata": {},
   "outputs": [
    {
     "data": {
      "text/plain": [
       "0.7832142857142856"
      ]
     },
     "execution_count": 4,
     "metadata": {},
     "output_type": "execute_result"
    }
   ],
   "source": [
    "# Huấn luyện lại RF với tham số tốt nhất: \n",
    "best_rf_Grid = RandomForestClassifier(**rf_grid.best_params_, random_state=29).fit(X_train, y_train)\n",
    "\n",
    "# Hàm tính ROC/AUC: \n",
    "from sklearn.metrics import roc_auc_score\n",
    "\n",
    "def calculate(model_seleted):\n",
    "    auc = roc_auc_score(y_test, model_seleted.predict_proba(X_test)[:, 1])\n",
    "    return auc\n",
    "\n",
    "# AUC trên Test Data ứng với tham số tối ưu: \n",
    "auc_Grid_testData = calculate(best_rf_Grid)\n",
    "auc_Grid_testData"
   ]
  },
  {
   "cell_type": "markdown",
   "metadata": {},
   "source": [
    "Với Random Search thì thời gian tinh chỉnh và huấn luyện là 54s: "
   ]
  },
  {
   "cell_type": "code",
   "execution_count": 5,
   "metadata": {},
   "outputs": [
    {
     "name": "stdout",
     "output_type": "stream",
     "text": [
      "Fitting 5 folds for each of 50 candidates, totalling 250 fits\n"
     ]
    },
    {
     "name": "stderr",
     "output_type": "stream",
     "text": [
      "[Parallel(n_jobs=-1)]: Using backend LokyBackend with 40 concurrent workers.\n",
      "[Parallel(n_jobs=-1)]: Done  82 tasks      | elapsed:    2.1s\n",
      "[Parallel(n_jobs=-1)]: Done 250 out of 250 | elapsed:    5.2s finished\n"
     ]
    },
    {
     "name": "stdout",
     "output_type": "stream",
     "text": [
      "Training Time: 5.989135265350342\n"
     ]
    }
   ],
   "source": [
    "# Thực hiện Random Search: \n",
    "from sklearn.model_selection import RandomizedSearchCV\n",
    "\n",
    "start_time = time.time()\n",
    "\n",
    "rf_random = RandomizedSearchCV(estimator=RandomForestClassifier(random_state=29),\n",
    "                               param_distributions=param_grid,\n",
    "                               cv=5,              \n",
    "                               n_iter=50,         \n",
    "                               scoring=\"roc_auc\",\n",
    "                               verbose = 2, \n",
    "                               n_jobs=-1,           \n",
    "                               random_state=29)\n",
    "\n",
    "# Tinh chỉnh bằng Random Search: \n",
    "rf_random.fit(X_train, y_train)\n",
    "\n",
    "# Hiển thị thời gian cần thiết để tinh chỉnh: \n",
    "time_training_RandSearch = time.time() - start_time\n",
    "print('Training Time:', time_training_RandSearch)"
   ]
  },
  {
   "cell_type": "markdown",
   "metadata": {},
   "source": [
    "Các kết quả tương ứng là: "
   ]
  },
  {
   "cell_type": "code",
   "execution_count": 6,
   "metadata": {},
   "outputs": [
    {
     "name": "stdout",
     "output_type": "stream",
     "text": [
      "{'n_estimators': 500, 'min_samples_split': 4, 'min_samples_leaf': 5, 'max_depth': 10, 'criterion': 'entropy'}\n",
      "0.7966889880952381\n"
     ]
    }
   ],
   "source": [
    "best_params_RandSearch = rf_random.best_params_\n",
    "avgAUC_RandSearch = rf_random.best_score_\n",
    "print(rf_random.best_params_)  \n",
    "print(rf_random.best_score_) "
   ]
  },
  {
   "cell_type": "markdown",
   "metadata": {},
   "source": [
    "Có thể thấy AUC = 0.7939 thua kém không đáng kể so với AUC = 0.7947 của phương án Grid Search nhưng thời gian thực thi rất nhanh. Tương tự chúng ta tính AUC trên test data tương ứng với tham số tối ưu tìm được từ Random Search: "
   ]
  },
  {
   "cell_type": "code",
   "execution_count": 7,
   "metadata": {},
   "outputs": [
    {
     "data": {
      "text/plain": [
       "0.7836904761904762"
      ]
     },
     "execution_count": 7,
     "metadata": {},
     "output_type": "execute_result"
    }
   ],
   "source": [
    "# Huấn luyện lại RF với tham số tốt nhất: \n",
    "best_rf_Ran = RandomForestClassifier(**rf_random.best_params_, random_state=29).fit(X_train, y_train)\n",
    "\n",
    "# AUC trên Test Data ứng với tham số tối ưu: \n",
    "auc_Ran_testData = calculate(rf_random)\n",
    "auc_Ran_testData"
   ]
  },
  {
   "cell_type": "markdown",
   "metadata": {},
   "source": [
    "Các kết quả thực nghiệm ở trên cho thấy Random Search có thể là một giải pháp hiệu quả cho tinh chỉnh - tìm kiếm tham số tối ưu. Tuy nhiên trong nhiều tình huống như có hàng triệu đến hàng chục triệu sự kết hợp khác nhau của các tham số (hoặc bộ dữ liệu rất lớn) thì Random Search cũng có thể là không phù hợp. Trong tình huống này chúng ta sử dụng một cách tiếp cận khác để tinh chỉnh - tìm kiếm tham số tối ưu. Phương pháp đó gọi là **Bayesian Optimization**. Trước hết chúng ta cần làm quen với thuật toán tối ưu này. "
   ]
  },
  {
   "cell_type": "markdown",
   "metadata": {},
   "source": [
    "# 6.2 Sơ lược về Bayesian Optimization\n",
    "\n",
    "Để minh họa chúng ta xét tam thức bậc hai sau: \n",
    "$$y= x^{2} -2x + 3$$\n",
    "\n",
    "Với kiến thức phổ thông chúng ta có thể tìm ra ngay tại x = 1 thì giá trị của y sẽ là cực tiểu và giá trị cực tiểu đó là y = 2.  Chúng ta có thể minh họa đồ thị của tam thức bậc hai này trong khoảng giá trị từ -10 đến 12 như sau: "
   ]
  },
  {
   "cell_type": "code",
   "execution_count": 8,
   "metadata": {},
   "outputs": [
    {
     "name": "stdout",
     "output_type": "stream",
     "text": [
      "Minimum of 2.0000 occurs at 1.0001\n"
     ]
    },
    {
     "data": {
      "image/png": "[encoded data removed]",
      "text/plain": [
       "<Figure size 576x432 with 1 Axes>"
      ]
     },
     "metadata": {},
     "output_type": "display_data"
    }
   ],
   "source": [
    "import numpy as np\n",
    "\n",
    "# Viết hàm tính giá trị của y khi biết x:\n",
    "def my_fun(x):\n",
    "    fx = x**2 - 2*x + 3\n",
    "    return fx\n",
    "\n",
    "x = np.linspace(-10, 12, 100000) # Tạo 100000 giá trị của x trong khoảng -10 đến 12. \n",
    "y = my_fun(x) # Giá trị tương ứng của y. \n",
    "\n",
    "miny = min(y)\n",
    "minx = x[np.argmin(y)]\n",
    "\n",
    "# Visualize the function\n",
    "\n",
    "\n",
    "%matplotlib inline\n",
    "import matplotlib.pyplot as plt\n",
    "import seaborn as sns\n",
    "plt.style.use('fivethirtyeight')\n",
    "\n",
    "plt.figure(figsize = (8, 6))\n",
    "plt.plot(x, y)\n",
    "plt.vlines(minx, min(y) - 30, max(y), linestyles = '--', colors = 'r')\n",
    "plt.title('Figure 1: Objective Function')\n",
    "plt.xlabel('x')\n",
    "plt.ylabel('y = f(x)')\n",
    "\n",
    "# In ra các kết quả: \n",
    "print('Minimum of %0.4f occurs at %0.4f' % (miny, minx))"
   ]
  },
  {
   "cell_type": "markdown",
   "metadata": {},
   "source": [
    "Theo ngôn ngữ chuyên môn trong bối cảnh của Bayesian Optimization thì hàm my_fun mà chúng ta viết ở trên gọi là hàm mục tiêu **Objective Function** còn 100.000 các giá trị khác nhau của x gọi là **domain space** - tạm dịch là không gian tìm kiếm. Để thực hiện Bayesian Optimization chúng ta phải có hai bước không thể bỏ qua: \n",
    "\n",
    "- Định nghĩa hàm mục tiêu. Hàm mục tiêu có thể là bất cứ cái gì chứ không nhất thiết là tam thức bậc hai. \n",
    "- Xác định rõ không gian tìm kiếm. \n",
    "\n",
    "Hàm mục tiêu thì chúng ta đã xác định đó là hàm *my_fun*. Tuy nhiên để thực hiện tối ưu hóa Bayesian bằng thư viện **hyperopt** thì chúng ta thực hiện như sau: "
   ]
  },
  {
   "cell_type": "code",
   "execution_count": 9,
   "metadata": {},
   "outputs": [],
   "source": [
    "# Gọi thư viện hyperopt: \n",
    "from hyperopt import hp\n",
    "\n",
    "# Định nghĩa không gian tìm kiếm là từ -10 đến 12: \n",
    "space = hp.uniform('x', -10, 12)"
   ]
  },
  {
   "cell_type": "markdown",
   "metadata": {},
   "source": [
    "Với định nghĩa rằng các giá trị của x trong khoảng -10 đến 12 có phân phối xác suất theo luật Uniform. Chúng ta có thể xem phân phối của các giá trị x này với giả định rằng khoảng được chia thành 100000 điểm: "
   ]
  },
  {
   "cell_type": "code",
   "execution_count": 10,
   "metadata": {},
   "outputs": [
    {
     "data": {
      "text/plain": [
       "Text(0.5, 1.0, 'Figure 2: Distribution of Domain Space')"
      ]
     },
     "execution_count": 10,
     "metadata": {},
     "output_type": "execute_result"
    },
    {
     "data": {
      "image/png": "[encoded data removed]",
      "text/plain": [
       "<Figure size 576x432 with 1 Axes>"
      ]
     },
     "metadata": {
      "needs_background": "light"
     },
     "output_type": "display_data"
    }
   ],
   "source": [
    "from hyperopt.pyll.stochastic import sample\n",
    "\n",
    "samples = []\n",
    "\n",
    "# Tạo 100000 giá trị của x trong khoảng -10 đến 10 với phân phối Uniform: \n",
    "for _ in range(100000):\n",
    "    samples.append(sample(space))\n",
    "    \n",
    "# Vẽ Histogram: \n",
    "plt.figure(figsize = (8, 6))\n",
    "plt.hist(samples, bins = 20, edgecolor = 'black'); \n",
    "plt.xlabel('x')\n",
    "plt.ylabel('Frequency')\n",
    "plt.title('Figure 2: Distribution of Domain Space')"
   ]
  },
  {
   "cell_type": "markdown",
   "metadata": {},
   "source": [
    "Với thư viện hyperopt chúng ta có hai thuật toán tối ưu khác nhau với tốc độ hội tụ khác nhau là **Random** và **Tree Parzen Estimator - TPE**. Chúng ta có thể so sánh tốc độ và kết quả của hai thuật toán tối ưu này: "
   ]
  },
  {
   "cell_type": "code",
   "execution_count": 11,
   "metadata": {},
   "outputs": [],
   "source": [
    "# Sử dụng hai thuật toán tối ưu Bayesion: \n",
    "from hyperopt import rand, tpe\n",
    "tpe = tpe.suggest\n",
    "rand = rand.suggest"
   ]
  },
  {
   "cell_type": "code",
   "execution_count": 12,
   "metadata": {},
   "outputs": [],
   "source": [
    "# Khởi tạo Trial tương ứng cho các thuật toán tối ưu: \n",
    "\n",
    "from hyperopt import Trials\n",
    "tpe_trials = Trials()\n",
    "rand_trials = Trials()"
   ]
  },
  {
   "cell_type": "code",
   "execution_count": 13,
   "metadata": {},
   "outputs": [
    {
     "name": "stdout",
     "output_type": "stream",
     "text": [
      "100%|██████████| 1000/1000 [00:06<00:00, 165.26it/s, best loss: 2.000004745536198]\n",
      "{'x': 0.9978215748353693}\n"
     ]
    }
   ],
   "source": [
    "# Thực hiện thuật toán tối ưu hóa: \n",
    "from hyperopt import fmin\n",
    "\n",
    "# Run với 1000 bước cho TPE: \n",
    "tpe_best = fmin(fn=my_fun, \n",
    "                space=space, \n",
    "                algo=tpe, \n",
    "                trials=tpe_trials, \n",
    "                max_evals=1000, \n",
    "                rstate= np.random.RandomState(29))\n",
    "\n",
    "# Kết quả: \n",
    "print(tpe_best)"
   ]
  },
  {
   "cell_type": "code",
   "execution_count": 14,
   "metadata": {},
   "outputs": [
    {
     "name": "stdout",
     "output_type": "stream",
     "text": [
      "100%|██████████| 1000/1000 [00:01<00:00, 969.45it/s, best loss: 2.000042623993633]\n",
      "{'x': 0.9934712946434345}\n"
     ]
    }
   ],
   "source": [
    "# Tương tự là cho Random: \n",
    "rand_best = fmin(fn=my_fun, \n",
    "                 space=space, \n",
    "                 algo=rand, \n",
    "                 trials=rand_trials, \n",
    "                 max_evals=1000, \n",
    "                 rstate= np.random.RandomState(29))\n",
    "\n",
    "print(rand_best)"
   ]
  },
  {
   "cell_type": "markdown",
   "metadata": {},
   "source": [
    "Random cần thực hiện 650 bước để tìm ra giá trị tối ưu là 0.9935 từ Domain Space. Còn TPE thì chỉ cần 330 bước và giá trị tối ưu là 0.9978. Nói cách khác, tốc độ hội tụ - hay tìm nghiệm tối ưu của TPE là nhanh hơn: "
   ]
  },
  {
   "cell_type": "code",
   "execution_count": 15,
   "metadata": {},
   "outputs": [
    {
     "name": "stdout",
     "output_type": "stream",
     "text": [
      "Minimum loss attained with TPE:    2.0000\n",
      "Minimum loss attained with random: 2.0000\n",
      "Actual minimum of f(x):            2.0000\n",
      "\n",
      "Number of trials needed to attain minimum with TPE:    328\n",
      "Number of trials needed to attain minimum with random: 650\n",
      "\n",
      "Best value of x from TPE:    0.9978\n",
      "Best value of x from Random: 0.9935\n",
      "Actual best value of x:      1.0001\n"
     ]
    }
   ],
   "source": [
    "print('Minimum loss attained with TPE:    {:.4f}'.format(tpe_trials.best_trial['result']['loss']))\n",
    "print('Minimum loss attained with random: {:.4f}'.format(rand_trials.best_trial['result']['loss']))\n",
    "print('Actual minimum of f(x):            {:.4f}'.format(miny))\n",
    "\n",
    "print('\\nNumber of trials needed to attain minimum with TPE:    {}'.format(tpe_trials.best_trial['misc']['idxs']['x'][0]))\n",
    "print('Number of trials needed to attain minimum with random: {}'.format(rand_trials.best_trial['misc']['idxs']['x'][0]))\n",
    "\n",
    "print('\\nBest value of x from TPE:    {:.4f}'.format(tpe_best['x']))\n",
    "print('Best value of x from Random: {:.4f}'.format(rand_best['x']))\n",
    "print('Actual best value of x:      {:.4f}'.format(minx))"
   ]
  },
  {
   "cell_type": "markdown",
   "metadata": {},
   "source": [
    "TPE hội tụ nhanh hơn thì cũng có cái giá phải trả đó là thời gian: thuật toán này chạy lâu hơn. Dưới đây là Python Codes áp dụng Bayesian Optimization để tinh chỉnh tham số cho Random Forest."
   ]
  },
  {
   "cell_type": "markdown",
   "metadata": {},
   "source": [
    "# 6.3 Sử dụng Bayesian Optimization để tinh chỉnh tham số \n",
    "\n",
    "Random Forest (RF) được lựa chọn để minh họa quá trình thực hiện tinh chỉnh tham số bằng tối ưu hóa Bayesian. Vì mục tiêu của tinh chỉnh tham số là, ví dụ, tối đa hóa ROC/AUC nên trước tiên chúng ta cần định nghĩa hàm mục tiêu là **tối thiểu hóa giá trị của -ROC/AUC**: "
   ]
  },
  {
   "cell_type": "code",
   "execution_count": 16,
   "metadata": {},
   "outputs": [],
   "source": [
    "# Viết hàm mục tiêu là tối thiểu hóa -1*AUC: \n",
    "from sklearn.model_selection import cross_val_score\n",
    "\n",
    "def objective_function(params):\n",
    "    clf = RandomForestClassifier(**params, n_jobs = -1, random_state=29)\n",
    "    score = cross_val_score(clf, X_train, y_train, cv=5, scoring=\"roc_auc\").mean()\n",
    "    loss_value = -1*score\n",
    "    return loss_value"
   ]
  },
  {
   "cell_type": "markdown",
   "metadata": {},
   "source": [
    "Bước kế tiếp là chúng ta phải định nghĩa Domain Space. Giả sử chúng ta chỉ muốn tinh chỉnh 5 tham số với không gian giá trị của các tham số như sau: "
   ]
  },
  {
   "cell_type": "code",
   "execution_count": 17,
   "metadata": {},
   "outputs": [],
   "source": [
    "# Xác định Domain Space cho tinh chỉnh: \n",
    "from hyperopt.pyll import scope\n",
    "\n",
    "param_hyperopt_rf = {\n",
    "    'max_depth': scope.int(hp.quniform('max_depth', 1, 50, 1)),\n",
    "    'n_estimators': scope.int(hp.quniform('n_estimators', 50, 1000, 100)),\n",
    "    'min_samples_split': scope.int(hp.quniform('min_samples_split', 2, 30, 1)), \n",
    "    'min_samples_leaf': scope.int(hp.quniform('min_samples_leaf', 2, 30, 1)),\n",
    "    'criterion': hp.choice('criterion', ['gini', 'entropy'])\n",
    "}"
   ]
  },
  {
   "cell_type": "markdown",
   "metadata": {},
   "source": [
    "Thực hiện tinh chỉnh tham số cho RF bằng tối ưu hóa Bayesian: "
   ]
  },
  {
   "cell_type": "code",
   "execution_count": 18,
   "metadata": {},
   "outputs": [
    {
     "name": "stdout",
     "output_type": "stream",
     "text": [
      "100%|██████████| 15/15 [01:29<00:00,  5.08s/it, best loss: -0.7981026785714285]\n"
     ]
    }
   ],
   "source": [
    "# Tắt các cảnh báo cho đỡ vướng màn hình hiển thị: \n",
    "\n",
    "import warnings\n",
    "warnings.filterwarnings('ignore')\n",
    "warnings.filterwarnings(action='ignore', category=DeprecationWarning)\n",
    "warnings.filterwarnings(action='ignore', category=FutureWarning)\n",
    "\n",
    "# Tinh chỉnh tham số cho RF theo TPE: \n",
    "tpe_RF_trials = Trials()\n",
    "\n",
    "start_time = time.time()\n",
    "rf_bayesian_TPE = fmin(objective_function, \n",
    "                       param_hyperopt_rf, \n",
    "                       algo=tpe, \n",
    "                       max_evals=15, \n",
    "                       trials=tpe_RF_trials,\n",
    "                       rstate= np.random.RandomState(1))\n",
    "time_training_BayesianTPE = time.time() - start_time"
   ]
  },
  {
   "cell_type": "markdown",
   "metadata": {},
   "source": [
    "Chúng ta có thể theo dõi trung bình AUC theo Interration cho TPE Bayesian Optimization: "
   ]
  },
  {
   "cell_type": "code",
   "execution_count": 19,
   "metadata": {},
   "outputs": [
    {
     "name": "stderr",
     "output_type": "stream",
     "text": [
      "No handles with labels found to put in legend.\n"
     ]
    },
    {
     "data": {
      "image/png": "[encoded data removed]",
      "text/plain": [
       "<Figure size 576x432 with 1 Axes>"
      ]
     },
     "metadata": {
      "needs_background": "light"
     },
     "output_type": "display_data"
    }
   ],
   "source": [
    "hyperopt_scores = [-1*trial['result']['loss'] for trial in tpe_RF_trials.trials]\n",
    "hyperopt_scores = np.maximum.accumulate(hyperopt_scores)\n",
    "\n",
    "plt.figure(figsize = (8, 6))\n",
    "plt.plot(hyperopt_scores)\n",
    "plt.xlabel(\"Interation\")\n",
    "plt.ylabel(\"ROC/AUC\")\n",
    "plt.title(\"Figure 3: ROC/AUC by Interation (TPE Bayesian Optimization)\")\n",
    "plt.legend()\n",
    "plt.show()"
   ]
  },
  {
   "cell_type": "code",
   "execution_count": 20,
   "metadata": {},
   "outputs": [
    {
     "data": {
      "text/plain": [
       "{'criterion': 1,\n",
       " 'max_depth': 29.0,\n",
       " 'min_samples_leaf': 3.0,\n",
       " 'min_samples_split': 12.0,\n",
       " 'n_estimators': 900.0}"
      ]
     },
     "execution_count": 20,
     "metadata": {},
     "output_type": "execute_result"
    }
   ],
   "source": [
    "# Giá trị các tham số tối ưu tìm được từ TPE Bayesian Optimization: \n",
    "rf_bayesian_TPE"
   ]
  },
  {
   "cell_type": "code",
   "execution_count": 21,
   "metadata": {},
   "outputs": [],
   "source": [
    "# Chuyển kết quả về list: \n",
    "best_param_values_tpe = [x for x in rf_bayesian_TPE.values()]"
   ]
  },
  {
   "cell_type": "code",
   "execution_count": 22,
   "metadata": {},
   "outputs": [],
   "source": [
    "# Hàm huấn luyện RF với tham số tốt nhất và tính ROC/AUC cho train data: \n",
    "\n",
    "def training_calculatingAUC(best_param_values):\n",
    "    \n",
    "    if best_param_values[0] == 0:\n",
    "        criterion = 'gini'\n",
    "    else:\n",
    "        criterion = 'entropy'\n",
    "        \n",
    "    best_rf = RandomForestClassifier(criterion = criterion, \n",
    "                                     max_depth = int(best_param_values[1]), \n",
    "                                     min_samples_leaf = int(best_param_values[2]), \n",
    "                                     min_samples_split = int(best_param_values[3]), \n",
    "                                     n_estimators = int(best_param_values[4]), \n",
    "                                     n_jobs = -1)\n",
    "    \n",
    "    best_rf.fit(X_train, y_train)\n",
    "    auc = calculate(best_rf)\n",
    "    print(\"AUC tương ứng với tham số tối ưu trên Train Data:\", round(auc, 3))\n",
    "    return best_rf"
   ]
  },
  {
   "cell_type": "code",
   "execution_count": 23,
   "metadata": {},
   "outputs": [
    {
     "name": "stdout",
     "output_type": "stream",
     "text": [
      "AUC tương ứng với tham số tối ưu trên Train Data: 0.79\n"
     ]
    }
   ],
   "source": [
    "# Huấn luyện lại RF sử dụng tham số tốt nhất từ TPE Bayesian Optimization: \n",
    "best_rf_TPE = training_calculatingAUC(best_param_values=best_param_values_tpe)"
   ]
  },
  {
   "cell_type": "code",
   "execution_count": 32,
   "metadata": {},
   "outputs": [],
   "source": [
    "avgAUC_TPE_Bayesian = max(hyperopt_scores) # AUC trung bình (cho 5 folds) cao nhất. \n",
    "auc_TPE_Bayesian_testData = 0.79 # AUC trên Test Data. "
   ]
  },
  {
   "cell_type": "markdown",
   "metadata": {},
   "source": [
    "Dưới đây là Python Codes cho thực hiện Bayesian Optimization theo chiến lược Random: "
   ]
  },
  {
   "cell_type": "code",
   "execution_count": 25,
   "metadata": {},
   "outputs": [
    {
     "name": "stdout",
     "output_type": "stream",
     "text": [
      "100%|██████████| 25/25 [02:33<00:00,  4.88s/it, best loss: -0.7990327380952381]\n"
     ]
    }
   ],
   "source": [
    "ran_RF_trials = Trials()\n",
    "\n",
    "start_time = time.time()\n",
    "rf_bayesian_Rand = fmin(objective_function, \n",
    "                        param_hyperopt_rf, \n",
    "                        algo=rand, \n",
    "                        max_evals=25, \n",
    "                        trials=ran_RF_trials,\n",
    "                        rstate= np.random.RandomState(29))\n",
    "time_training_BayesianRand = time.time() - start_time"
   ]
  },
  {
   "cell_type": "code",
   "execution_count": 26,
   "metadata": {},
   "outputs": [
    {
     "name": "stderr",
     "output_type": "stream",
     "text": [
      "No handles with labels found to put in legend.\n"
     ]
    },
    {
     "data": {
      "image/png": "[encoded data removed]",
      "text/plain": [
       "<Figure size 576x432 with 1 Axes>"
      ]
     },
     "metadata": {
      "needs_background": "light"
     },
     "output_type": "display_data"
    }
   ],
   "source": [
    "hyperopt_scores_ran = [-1*trial['result']['loss'] for trial in ran_RF_trials.trials]\n",
    "hyperopt_scores_ran = np.maximum.accumulate(hyperopt_scores_ran)\n",
    "\n",
    "plt.figure(figsize = (8, 6))\n",
    "plt.plot(hyperopt_scores_ran)\n",
    "plt.xlabel(\"Interation\")\n",
    "plt.ylabel(\"ROC/AUC\")\n",
    "plt.title(\"Figure 4: ROC/AUC by Interation (Random Bayesian Optimization)\")\n",
    "plt.legend()\n",
    "plt.show()"
   ]
  },
  {
   "cell_type": "code",
   "execution_count": 27,
   "metadata": {},
   "outputs": [],
   "source": [
    "avgAUC_TPE_Rand = max(hyperopt_scores_ran)"
   ]
  },
  {
   "cell_type": "code",
   "execution_count": 28,
   "metadata": {},
   "outputs": [],
   "source": [
    "best_param_values_ran = [x for x in rf_bayesian_Rand.values()]"
   ]
  },
  {
   "cell_type": "code",
   "execution_count": 29,
   "metadata": {},
   "outputs": [
    {
     "name": "stdout",
     "output_type": "stream",
     "text": [
      "AUC tương ứng với tham số tối ưu trên Train Data: 0.788\n"
     ]
    }
   ],
   "source": [
    "best_rf_Rand = training_calculatingAUC(best_param_values=best_param_values_ran)"
   ]
  },
  {
   "cell_type": "code",
   "execution_count": 30,
   "metadata": {},
   "outputs": [
    {
     "data": {
      "text/plain": [
       "{'criterion': 1,\n",
       " 'max_depth': 45.0,\n",
       " 'min_samples_leaf': 2.0,\n",
       " 'min_samples_split': 5.0,\n",
       " 'n_estimators': 700.0}"
      ]
     },
     "execution_count": 30,
     "metadata": {},
     "output_type": "execute_result"
    }
   ],
   "source": [
    "rf_bayesian_Rand"
   ]
  },
  {
   "cell_type": "code",
   "execution_count": 33,
   "metadata": {},
   "outputs": [],
   "source": [
    "auc_Ran_Bayesian_testData = 0.788"
   ]
  },
  {
   "cell_type": "markdown",
   "metadata": {},
   "source": [
    "# 6.4 So sánh kết quả tinh chỉnh \n",
    "\n",
    "Hiệu quả tinh chỉnh tham số cho RF được đánh giá từ ba khía cạnh là: (1) thời gian tinh chỉnh, (2) trung bình AUC cao nhất trên 5 folds, và (3) AUC trên test data tương ứng với tham số tốt nhất thu được từ các phương pháp tinh chỉnh: "
   ]
  },
  {
   "cell_type": "code",
   "execution_count": 35,
   "metadata": {},
   "outputs": [
    {
     "data": {
      "text/html": [
       "<div>\n",
       "<style scoped>\n",
       "    .dataframe tbody tr th:only-of-type {\n",
       "        vertical-align: middle;\n",
       "    }\n",
       "\n",
       "    .dataframe tbody tr th {\n",
       "        vertical-align: top;\n",
       "    }\n",
       "\n",
       "    .dataframe thead th {\n",
       "        text-align: right;\n",
       "    }\n",
       "</style>\n",
       "<table border=\"1\" class=\"dataframe\">\n",
       "  <thead>\n",
       "    <tr style=\"text-align: right;\">\n",
       "      <th></th>\n",
       "      <th>Turning Method</th>\n",
       "      <th>Turning Time</th>\n",
       "      <th>Average AUC</th>\n",
       "      <th>Test Data AUC</th>\n",
       "    </tr>\n",
       "  </thead>\n",
       "  <tbody>\n",
       "    <tr>\n",
       "      <td>0</td>\n",
       "      <td>Grid Search</td>\n",
       "      <td>343.293146</td>\n",
       "      <td>0.800223</td>\n",
       "      <td>0.783214</td>\n",
       "    </tr>\n",
       "    <tr>\n",
       "      <td>1</td>\n",
       "      <td>Random Search</td>\n",
       "      <td>5.989135</td>\n",
       "      <td>0.796689</td>\n",
       "      <td>0.783690</td>\n",
       "    </tr>\n",
       "    <tr>\n",
       "      <td>2</td>\n",
       "      <td>TPE Bayesian</td>\n",
       "      <td>89.887230</td>\n",
       "      <td>0.798103</td>\n",
       "      <td>0.790000</td>\n",
       "    </tr>\n",
       "    <tr>\n",
       "      <td>3</td>\n",
       "      <td>Random Bayesian</td>\n",
       "      <td>153.594213</td>\n",
       "      <td>0.799033</td>\n",
       "      <td>0.788000</td>\n",
       "    </tr>\n",
       "  </tbody>\n",
       "</table>\n",
       "</div>"
      ],
      "text/plain": [
       "    Turning Method  Turning Time  Average AUC  Test Data AUC\n",
       "0      Grid Search    343.293146     0.800223       0.783214\n",
       "1    Random Search      5.989135     0.796689       0.783690\n",
       "2     TPE Bayesian     89.887230     0.798103       0.790000\n",
       "3  Random Bayesian    153.594213     0.799033       0.788000"
      ]
     },
     "execution_count": 35,
     "metadata": {},
     "output_type": "execute_result"
    }
   ],
   "source": [
    "df_comparing = {'Turning Method': ['Grid Search', 'Random Search', 'TPE Bayesian', 'Random Bayesian'], \n",
    "               'Turning Time': [time_training_GridSearch, time_training_RandSearch, time_training_BayesianTPE, time_training_BayesianRand],\n",
    "               'Average AUC': [avgAUC_GridSearch, avgAUC_RandSearch, avgAUC_TPE_Bayesian, avgAUC_TPE_Rand], \n",
    "               'Test Data AUC': [auc_Grid_testData, auc_Ran_testData, auc_TPE_Bayesian_testData, auc_Ran_Bayesian_testData]}\n",
    "\n",
    "pd.DataFrame(df_comparing)"
   ]
  },
  {
   "cell_type": "markdown",
   "metadata": {},
   "source": [
    "# Tài liệu tham khảo\n",
    "\n",
    "1. Géron, A. (2019). Hands-on machine learning with Scikit-Learn and TensorFlow: concepts, tools, and techniques to build intelligent systems. O'Reilly Media, Inc.\n",
    "2. Shmueli, G., Bruce, P. C., Yahav, I., Patel, N. R., & Lichtendahl Jr, K. C. (2017). Data mining for business analytics: concepts, techniques, and applications in R. John Wiley & Sons.\n",
    "3. Pelikan, M., Goldberg, D. E., & Cantú-Paz, E. (1999, July). BOA: The Bayesian optimization algorithm. In Proceedings of the 1st Annual Conference on Genetic and Evolutionary Computation-Volume 1 (pp. 525-532). Morgan Kaufmann Publishers Inc.\n",
    "4. Bergstra, J., Komer, B., Eliasmith, C., Yamins, D., & Cox, D. D. (2015). Hyperopt: a python library for model selection and hyperparameter optimization. Computational Science & Discovery, 8(1), 014008.\n",
    "5. Klein, A., Falkner, S., Mansur, N., & Hutter, F. (2017, December). RoBO: A flexible and robust Bayesian optimization framework in Python. In NIPS 2017 Bayesian Optimization Workshop.\n",
    "6. Eggensperger, K., Feurer, M., Hutter, F., Bergstra, J., Snoek, J., Hoos, H., & Leyton-Brown, K. (2013, December). Towards an empirical foundation for assessing bayesian optimization of hyperparameters. In NIPS workshop on Bayesian Optimization in Theory and Practice (Vol. 10, p. 3)."
   ]
  }
 ],
 "metadata": {
  "kernelspec": {
   "display_name": "Python 3",
   "language": "python",
   "name": "python3"
  },
  "language_info": {
   "codemirror_mode": {
    "name": "ipython",
    "version": 3
   },
   "file_extension": ".py",
   "mimetype": "text/x-python",
   "name": "python",
   "nbconvert_exporter": "python",
   "pygments_lexer": "ipython3",
   "version": "3.7.3"
  }
 },
 "nbformat": 4,
 "nbformat_minor": 2
}
